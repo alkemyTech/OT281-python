{
 "cells": [
  {
   "cell_type": "code",
   "execution_count": 1,
   "id": "b743f2c5",
   "metadata": {},
   "outputs": [],
   "source": [
    "\n",
    "# Import libraries \n",
    "import xml.etree.ElementTree as ET\n",
    "import re\n",
    "from typing import Counter\n",
    "import functools\n",
    "from functools import reduce\n",
    "import itertools\n",
    "from collections import ChainMap"
   ]
  },
  {
   "cell_type": "code",
   "execution_count": 8,
   "id": "5b0bb5cf",
   "metadata": {},
   "outputs": [],
   "source": [
    "# IMPORT posts.xml and make a tree object instance\n",
    "from pathlib import Path\n",
    "path_archivo= str(Path(globals()['_dh'][0]))[:-9]\n",
    "tree = ET.parse(path_archivo+'datasets/posts.xml')\n",
    "root = tree.getroot()\n"
   ]
  },
  {
   "cell_type": "markdown",
   "id": "fd17438a",
   "metadata": {},
   "source": [
    "# Relación entre cantidad de palabras en un post y su cantidad de respuestas\n"
   ]
  },
  {
   "cell_type": "code",
   "execution_count": 9,
   "id": "06de1f56",
   "metadata": {},
   "outputs": [],
   "source": [
    "# Entiendo que la cantidad de palabras en un post dividido la cantidad de veces que ParentID == PostId donde ,PostId es el post que le sumamos las palabras\n",
    "\n",
    "# diccionario de cantidad de palabras por PostId \n",
    "# diccionario de cantidad de ParentId (seria ParentId:Contador(ParentId))"
   ]
  },
  {
   "cell_type": "code",
   "execution_count": 10,
   "id": "da87cc20",
   "metadata": {},
   "outputs": [],
   "source": [
    "def chunckify(iterable,len_of_chunk):\n",
    "    for i in range(0,len(iterable), len_of_chunk):\n",
    "        yield iterable[i:i + len_of_chunk]\n",
    "        "
   ]
  },
  {
   "cell_type": "code",
   "execution_count": 11,
   "id": "60483ffe",
   "metadata": {},
   "outputs": [],
   "source": [
    "# Function to return a list of dict of parentid : count of times that it appears\n",
    "def mapper1(data):\n",
    "    parentId_mapeadas=list(map(get_ParentID,data))\n",
    "    parentId_mapeadas= list(filter(None,parentId_mapeadas))\n",
    "    list_dict_parentId= list(sum_Parent_ID(parentId_mapeadas))\n",
    "    \n",
    "    return list_dict_parentId\n",
    "\n",
    "\n",
    "# Function to get a list of ParentID    \n",
    "def get_ParentID(data):\n",
    "    try:\n",
    "        ParentId_id = data.attrib['ParentId']\n",
    "        \n",
    "    except:\n",
    "            return    \n",
    "    return ParentId_id\n",
    "\n",
    "\n",
    "# Function to get the total of times that a ParentID its listed\n",
    "def sum_Parent_ID(data):\n",
    "    return Counter(data)\n",
    "\n",
    "\n",
    "\n"
   ]
  },
  {
   "cell_type": "code",
   "execution_count": 12,
   "id": "9d9e4dc2",
   "metadata": {},
   "outputs": [],
   "source": [
    "def mapper2(data):\n",
    "# Get list of dicts with postid and the count of words in it   \n",
    "    post_mapeadas=    list(map(get_Post,data))\n",
    "    \n",
    "    \n",
    "    return post_mapeadas\n",
    "\n",
    "def get_Post(data):\n",
    "    # Get Body and postid list\n",
    "    body = data.attrib['Body']\n",
    "    postID = data.attrib['Id']\n",
    "    # Clean the body and get a list of words\n",
    "    body = re.findall('(?<!\\S)[A-Za-z]+(?!\\S)|(?<!\\S)[A-Za-z]+(?=:(?!\\S))',body)\n",
    "    # Filter the None list objetcs\n",
    "    body= list(filter(None,body))\n",
    "    # count the number of words in each post\n",
    "    counter_palabras = len(body)\n",
    "    \n",
    "    \n",
    "    \n",
    "    return {postID:counter_palabras}\n"
   ]
  },
  {
   "cell_type": "code",
   "execution_count": 13,
   "id": "6068e2a6",
   "metadata": {},
   "outputs": [],
   "source": [
    "# STEPS TO GET DICT WITH PARENT_ID vs COUNT OF TIMES THAT IS LISTED\n",
    "#Get chunks of data to process\n",
    "data_chunks = chunckify(root, 50)\n",
    "mapped1 = list(map(mapper1,data_chunks))\n",
    "#dict_posts_palabras = list(reduce(lambda a,b: a.update(b),mapped[:][1]))\n",
    "# Make dict with the ParentID and the times that it appears\n",
    "dict_ParentId=reduce(lambda x,y:Counter(x)+Counter(y),mapped1)\n",
    "\n",
    "\n"
   ]
  },
  {
   "cell_type": "code",
   "execution_count": 14,
   "id": "40cb5a22",
   "metadata": {},
   "outputs": [],
   "source": [
    "\n",
    "# STEPS TO GET DICT WITH POST_ID vs COUNT OF WORDS \n",
    "#Get chunks of data to process\n",
    "data_chunks = chunckify(root, 50)\n",
    "mapped2 = list(map(mapper2,data_chunks))\n",
    "# TRANSFORM LIST OF DICT INTO A BIG DICT\n",
    "mapped2=list(itertools.chain.from_iterable(mapped2))\n",
    "postid_palabras = reduce(lambda d, src: d.update(src) or d, mapped2,{})\n",
    "\n"
   ]
  },
  {
   "cell_type": "code",
   "execution_count": null,
   "id": "d51bb4f9",
   "metadata": {},
   "outputs": [],
   "source": []
  },
  {
   "cell_type": "code",
   "execution_count": 15,
   "id": "81757ace",
   "metadata": {},
   "outputs": [
    {
     "name": "stdout",
     "output_type": "stream",
     "text": [
      "56974\n",
      "13805\n"
     ]
    }
   ],
   "source": [
    "#postid_palabras < diccionario de posts y palabras\n",
    "print(len(postid_palabras))\n",
    "#dict_ParentId < diccionario de parent id\n",
    "print(len(dict_ParentId))"
   ]
  },
  {
   "cell_type": "markdown",
   "id": "518af0ad",
   "metadata": {},
   "source": [
    "# As its shown we have near to 4 times more questions than answers"
   ]
  },
  {
   "cell_type": "code",
   "execution_count": 11,
   "id": "eb0a44df",
   "metadata": {},
   "outputs": [],
   "source": [
    "\n",
    "# Get list of keys \n",
    "post_con_respuesta=list(dict_ParentId.keys())\n",
    "\n",
    "# Function to generate dict of postID and amount of word \n",
    "def genera_palabras_dict(data,postid_palabras=postid_palabras):\n",
    "    return {data:postid_palabras[data]}\n",
    "\n",
    "# Generate list of dicts with postID and amount of word    \n",
    "postid_palabras_limpio=list(map(genera_palabras_dict,post_con_respuesta))\n",
    "# Convert list of dicts in one big dicts\n",
    "postid_palabras_limpio = reduce(lambda d, src: d.update(src) or d, postid_palabras_limpio,{})\n"
   ]
  },
  {
   "cell_type": "code",
   "execution_count": 12,
   "id": "7eb0b0e8",
   "metadata": {},
   "outputs": [
    {
     "name": "stdout",
     "output_type": "stream",
     "text": [
      "13805\n",
      "13805\n"
     ]
    }
   ],
   "source": [
    "#postid_palabras < diccionario de posts y palabras\n",
    "print(len(postid_palabras_limpio))\n",
    "#dict_ParentId < diccionario de parent id\n",
    "print(len(dict_ParentId))"
   ]
  },
  {
   "cell_type": "code",
   "execution_count": 13,
   "id": "02616cdf",
   "metadata": {},
   "outputs": [],
   "source": [
    "def relacion(data,postid_palabras_limpio=postid_palabras_limpio,dict_ParentId=dict_ParentId):\n",
    "# Function to get relationship between amount of answers / amount of words in post \n",
    "    try:\n",
    "        # This try clause is because there are many post with 0 words\n",
    "        relacion_porc = (dict_ParentId[data]/postid_palabras_limpio[data])*100\n",
    "        return (data,relacion_porc)\n",
    "        # Case post words count is 0 will ignore it\n",
    "    except ZeroDivisionError:\n",
    "        return \n",
    "    \n",
    "# Get a list of tuples with post ID and relationship    \n",
    "lista_relacion=list(map(relacion,post_con_respuesta))"
   ]
  },
  {
   "cell_type": "code",
   "execution_count": 14,
   "id": "b7878752",
   "metadata": {},
   "outputs": [
    {
     "data": {
      "text/plain": [
       "[('1', 11.29032258064516),\n",
       " ('13', 10.0),\n",
       " ('6', 6.122448979591836),\n",
       " ('11', 1.3605442176870748),\n",
       " ('16', 2.2222222222222223),\n",
       " ('10', 16.666666666666664),\n",
       " ('20', 50.0),\n",
       " ('9', 2.0689655172413794),\n",
       " ('25', 61.111111111111114),\n",
       " ('31', 22.727272727272727)]"
      ]
     },
     "execution_count": 14,
     "metadata": {},
     "output_type": "execute_result"
    }
   ],
   "source": [
    "# LIST OF TUPLES  ( POST ID ,  % BETWEEN AMOUNT OF ANSWERS / AMOUNT OF WORDS IN POST  ) \n",
    "lista_relacion[:10]"
   ]
  },
  {
   "cell_type": "code",
   "execution_count": 15,
   "id": "307f8c20",
   "metadata": {},
   "outputs": [],
   "source": [
    "# Create a dataframe object with the data that was output of the ETL process\n",
    "\n",
    "import pandas as pd\n",
    "\n",
    "pd_relacion = pd.DataFrame(lista_relacion)\n",
    "pd_relacion = pd_relacion.set_index(0)"
   ]
  },
  {
   "cell_type": "code",
   "execution_count": 16,
   "id": "af7d3bba",
   "metadata": {},
   "outputs": [
    {
     "data": {
      "text/html": [
       "<div>\n",
       "<style scoped>\n",
       "    .dataframe tbody tr th:only-of-type {\n",
       "        vertical-align: middle;\n",
       "    }\n",
       "\n",
       "    .dataframe tbody tr th {\n",
       "        vertical-align: top;\n",
       "    }\n",
       "\n",
       "    .dataframe thead th {\n",
       "        text-align: right;\n",
       "    }\n",
       "</style>\n",
       "<table border=\"1\" class=\"dataframe\">\n",
       "  <thead>\n",
       "    <tr style=\"text-align: right;\">\n",
       "      <th></th>\n",
       "      <th>1</th>\n",
       "    </tr>\n",
       "    <tr>\n",
       "      <th>0</th>\n",
       "      <th></th>\n",
       "    </tr>\n",
       "  </thead>\n",
       "  <tbody>\n",
       "    <tr>\n",
       "      <th>1</th>\n",
       "      <td>11.290323</td>\n",
       "    </tr>\n",
       "    <tr>\n",
       "      <th>13</th>\n",
       "      <td>10.000000</td>\n",
       "    </tr>\n",
       "    <tr>\n",
       "      <th>6</th>\n",
       "      <td>6.122449</td>\n",
       "    </tr>\n",
       "    <tr>\n",
       "      <th>11</th>\n",
       "      <td>1.360544</td>\n",
       "    </tr>\n",
       "    <tr>\n",
       "      <th>16</th>\n",
       "      <td>2.222222</td>\n",
       "    </tr>\n",
       "    <tr>\n",
       "      <th>...</th>\n",
       "      <td>...</td>\n",
       "    </tr>\n",
       "    <tr>\n",
       "      <th>69056</th>\n",
       "      <td>1.754386</td>\n",
       "    </tr>\n",
       "    <tr>\n",
       "      <th>69060</th>\n",
       "      <td>0.460829</td>\n",
       "    </tr>\n",
       "    <tr>\n",
       "      <th>69063</th>\n",
       "      <td>0.719424</td>\n",
       "    </tr>\n",
       "    <tr>\n",
       "      <th>69076</th>\n",
       "      <td>2.222222</td>\n",
       "    </tr>\n",
       "    <tr>\n",
       "      <th>69092</th>\n",
       "      <td>2.000000</td>\n",
       "    </tr>\n",
       "  </tbody>\n",
       "</table>\n",
       "<p>13805 rows × 1 columns</p>\n",
       "</div>"
      ],
      "text/plain": [
       "               1\n",
       "0               \n",
       "1      11.290323\n",
       "13     10.000000\n",
       "6       6.122449\n",
       "11      1.360544\n",
       "16      2.222222\n",
       "...          ...\n",
       "69056   1.754386\n",
       "69060   0.460829\n",
       "69063   0.719424\n",
       "69076   2.222222\n",
       "69092   2.000000\n",
       "\n",
       "[13805 rows x 1 columns]"
      ]
     },
     "execution_count": 16,
     "metadata": {},
     "output_type": "execute_result"
    }
   ],
   "source": [
    "# Dataframe obtained\n",
    "pd_relacion"
   ]
  },
  {
   "cell_type": "code",
   "execution_count": 17,
   "id": "93c892e8",
   "metadata": {},
   "outputs": [
    {
     "data": {
      "text/html": [
       "<div>\n",
       "<style scoped>\n",
       "    .dataframe tbody tr th:only-of-type {\n",
       "        vertical-align: middle;\n",
       "    }\n",
       "\n",
       "    .dataframe tbody tr th {\n",
       "        vertical-align: top;\n",
       "    }\n",
       "\n",
       "    .dataframe thead th {\n",
       "        text-align: right;\n",
       "    }\n",
       "</style>\n",
       "<table border=\"1\" class=\"dataframe\">\n",
       "  <thead>\n",
       "    <tr style=\"text-align: right;\">\n",
       "      <th></th>\n",
       "      <th>1</th>\n",
       "    </tr>\n",
       "  </thead>\n",
       "  <tbody>\n",
       "    <tr>\n",
       "      <th>count</th>\n",
       "      <td>13786.000000</td>\n",
       "    </tr>\n",
       "    <tr>\n",
       "      <th>mean</th>\n",
       "      <td>4.059200</td>\n",
       "    </tr>\n",
       "    <tr>\n",
       "      <th>std</th>\n",
       "      <td>9.457816</td>\n",
       "    </tr>\n",
       "    <tr>\n",
       "      <th>min</th>\n",
       "      <td>0.082781</td>\n",
       "    </tr>\n",
       "    <tr>\n",
       "      <th>25%</th>\n",
       "      <td>1.298701</td>\n",
       "    </tr>\n",
       "    <tr>\n",
       "      <th>50%</th>\n",
       "      <td>2.316637</td>\n",
       "    </tr>\n",
       "    <tr>\n",
       "      <th>75%</th>\n",
       "      <td>4.285714</td>\n",
       "    </tr>\n",
       "    <tr>\n",
       "      <th>max</th>\n",
       "      <td>750.000000</td>\n",
       "    </tr>\n",
       "  </tbody>\n",
       "</table>\n",
       "</div>"
      ],
      "text/plain": [
       "                  1\n",
       "count  13786.000000\n",
       "mean       4.059200\n",
       "std        9.457816\n",
       "min        0.082781\n",
       "25%        1.298701\n",
       "50%        2.316637\n",
       "75%        4.285714\n",
       "max      750.000000"
      ]
     },
     "execution_count": 17,
     "metadata": {},
     "output_type": "execute_result"
    }
   ],
   "source": [
    "pd_relacion.describe()"
   ]
  },
  {
   "cell_type": "markdown",
   "id": "07f73ab2",
   "metadata": {},
   "source": [
    "The values that we can see starts in 0 because its a relationship obtained by a division (val1/val2)\n",
    "A min value close to 0 tell us that there are posts with any of this conditions\n",
    "1) Many words (and or code on the post)\n",
    "2) Few words with a lot of answers\n",
    "\n",
    "In the other hand we see that the mean is 4.06 , that mean that for each answer there was 4 words on the question, There is not too much information in every question if we think about it, or there are a lot of answers for every question.\n",
    "To answer that point we look back for the amount of words in the posts"
   ]
  },
  {
   "cell_type": "code",
   "execution_count": 18,
   "id": "6a3eb3f7",
   "metadata": {},
   "outputs": [],
   "source": [
    "#postid_palabras_limpio\n",
    "pd_cantidad_palabras = pd.DataFrame(postid_palabras_limpio,index=[0])\n",
    "pd_cantidad_palabras=pd_cantidad_palabras.T"
   ]
  },
  {
   "cell_type": "code",
   "execution_count": 19,
   "id": "524120eb",
   "metadata": {},
   "outputs": [
    {
     "data": {
      "text/html": [
       "<div>\n",
       "<style scoped>\n",
       "    .dataframe tbody tr th:only-of-type {\n",
       "        vertical-align: middle;\n",
       "    }\n",
       "\n",
       "    .dataframe tbody tr th {\n",
       "        vertical-align: top;\n",
       "    }\n",
       "\n",
       "    .dataframe thead th {\n",
       "        text-align: right;\n",
       "    }\n",
       "</style>\n",
       "<table border=\"1\" class=\"dataframe\">\n",
       "  <thead>\n",
       "    <tr style=\"text-align: right;\">\n",
       "      <th></th>\n",
       "      <th>0</th>\n",
       "    </tr>\n",
       "  </thead>\n",
       "  <tbody>\n",
       "    <tr>\n",
       "      <th>count</th>\n",
       "      <td>13805.000000</td>\n",
       "    </tr>\n",
       "    <tr>\n",
       "      <th>mean</th>\n",
       "      <td>78.478667</td>\n",
       "    </tr>\n",
       "    <tr>\n",
       "      <th>std</th>\n",
       "      <td>78.919490</td>\n",
       "    </tr>\n",
       "    <tr>\n",
       "      <th>min</th>\n",
       "      <td>0.000000</td>\n",
       "    </tr>\n",
       "    <tr>\n",
       "      <th>25%</th>\n",
       "      <td>32.000000</td>\n",
       "    </tr>\n",
       "    <tr>\n",
       "      <th>50%</th>\n",
       "      <td>56.000000</td>\n",
       "    </tr>\n",
       "    <tr>\n",
       "      <th>75%</th>\n",
       "      <td>97.000000</td>\n",
       "    </tr>\n",
       "    <tr>\n",
       "      <th>max</th>\n",
       "      <td>1436.000000</td>\n",
       "    </tr>\n",
       "  </tbody>\n",
       "</table>\n",
       "</div>"
      ],
      "text/plain": [
       "                  0\n",
       "count  13805.000000\n",
       "mean      78.478667\n",
       "std       78.919490\n",
       "min        0.000000\n",
       "25%       32.000000\n",
       "50%       56.000000\n",
       "75%       97.000000\n",
       "max     1436.000000"
      ]
     },
     "execution_count": 19,
     "metadata": {},
     "output_type": "execute_result"
    }
   ],
   "source": [
    "pd_cantidad_palabras.describe()"
   ]
  },
  {
   "cell_type": "markdown",
   "id": "2df0fbe3",
   "metadata": {},
   "source": [
    "Looking for the posts that were answered we see that the mean of words are 78, in that case we can suggest that the mean of the answered questions has 78.47/4.06 answers\n",
    "Also we can see that the STD of the amount of words in answered posts its the same that the mean, instead of it the STD of the relationship between the answers/words its the twice that its mean, so we can suggest that there shouldnt be a linear relationship between the words and the time that a post was answered.\n"
   ]
  },
  {
   "cell_type": "code",
   "execution_count": 32,
   "id": "20bbf4c9",
   "metadata": {},
   "outputs": [],
   "source": [
    "import matplotlib.pyplot as plt\n",
    "import seaborn as sb\n",
    "%matplotlib inline"
   ]
  },
  {
   "cell_type": "code",
   "execution_count": 42,
   "id": "70c3d373",
   "metadata": {},
   "outputs": [
    {
     "data": {
      "image/png": "[encoded data removed]",
      "text/plain": [
       "<Figure size 432x288 with 1 Axes>"
      ]
     },
     "metadata": {
      "needs_background": "light"
     },
     "output_type": "display_data"
    }
   ],
   "source": [
    "plt.hist(pd_cantidad_palabras,bins=100)\n",
    "plt.title(\"Histogram word count in posts\")\n",
    "plt.show()"
   ]
  },
  {
   "cell_type": "markdown",
   "id": "23abfac2",
   "metadata": {},
   "source": [
    "The graph and the describe function show that the mos part of the posts has less than 150 words and are arround 75"
   ]
  },
  {
   "cell_type": "code",
   "execution_count": null,
   "id": "f7d20111",
   "metadata": {},
   "outputs": [],
   "source": []
  },
  {
   "cell_type": "code",
   "execution_count": null,
   "id": "4b150c73",
   "metadata": {},
   "outputs": [],
   "source": []
  },
  {
   "cell_type": "code",
   "execution_count": 24,
   "id": "8f9096be",
   "metadata": {},
   "outputs": [],
   "source": [
    "# To extend this we are going to check if there is any relation between the words in a post and the answers that it has\n",
    "\n",
    "def relacion_2(data,postid_palabras_limpio=postid_palabras_limpio,dict_ParentId=dict_ParentId):\n",
    "    return (dict_ParentId[data],postid_palabras_limpio[data])\n",
    "        \n",
    "# Get a list of tuples with post ID and relationship    \n",
    "lista_tuplas_analizar=list(map(relacion_2,post_con_respuesta))"
   ]
  },
  {
   "cell_type": "code",
   "execution_count": 27,
   "id": "b0e62233",
   "metadata": {},
   "outputs": [],
   "source": [
    "lista_listas_analizar=list(map(list,zip(*lista_tuplas_analizar)))"
   ]
  },
  {
   "cell_type": "code",
   "execution_count": 49,
   "id": "211ae498",
   "metadata": {},
   "outputs": [
    {
     "name": "stdout",
     "output_type": "stream",
     "text": [
      "13805\n",
      "13805\n"
     ]
    }
   ],
   "source": [
    "print(len(lista_listas_analizar[0]))\n",
    "print(len(lista_listas_analizar[1]))\n",
    "\n",
    "pd_lista_listas_analizar_0=pd.DataFrame(lista_listas_analizar[0])\n",
    "pd_lista_listas_analizar_1=pd.DataFrame(lista_listas_analizar[1])"
   ]
  },
  {
   "cell_type": "code",
   "execution_count": 56,
   "id": "71b3109b",
   "metadata": {},
   "outputs": [
    {
     "data": {
      "text/html": [
       "<div>\n",
       "<style scoped>\n",
       "    .dataframe tbody tr th:only-of-type {\n",
       "        vertical-align: middle;\n",
       "    }\n",
       "\n",
       "    .dataframe tbody tr th {\n",
       "        vertical-align: top;\n",
       "    }\n",
       "\n",
       "    .dataframe thead th {\n",
       "        text-align: right;\n",
       "    }\n",
       "</style>\n",
       "<table border=\"1\" class=\"dataframe\">\n",
       "  <thead>\n",
       "    <tr style=\"text-align: right;\">\n",
       "      <th></th>\n",
       "      <th>0</th>\n",
       "    </tr>\n",
       "  </thead>\n",
       "  <tbody>\n",
       "    <tr>\n",
       "      <th>count</th>\n",
       "      <td>13805.000000</td>\n",
       "    </tr>\n",
       "    <tr>\n",
       "      <th>mean</th>\n",
       "      <td>1.565809</td>\n",
       "    </tr>\n",
       "    <tr>\n",
       "      <th>std</th>\n",
       "      <td>1.624203</td>\n",
       "    </tr>\n",
       "    <tr>\n",
       "      <th>min</th>\n",
       "      <td>1.000000</td>\n",
       "    </tr>\n",
       "    <tr>\n",
       "      <th>25%</th>\n",
       "      <td>1.000000</td>\n",
       "    </tr>\n",
       "    <tr>\n",
       "      <th>50%</th>\n",
       "      <td>1.000000</td>\n",
       "    </tr>\n",
       "    <tr>\n",
       "      <th>75%</th>\n",
       "      <td>2.000000</td>\n",
       "    </tr>\n",
       "    <tr>\n",
       "      <th>max</th>\n",
       "      <td>75.000000</td>\n",
       "    </tr>\n",
       "  </tbody>\n",
       "</table>\n",
       "</div>"
      ],
      "text/plain": [
       "                  0\n",
       "count  13805.000000\n",
       "mean       1.565809\n",
       "std        1.624203\n",
       "min        1.000000\n",
       "25%        1.000000\n",
       "50%        1.000000\n",
       "75%        2.000000\n",
       "max       75.000000"
      ]
     },
     "execution_count": 56,
     "metadata": {},
     "output_type": "execute_result"
    }
   ],
   "source": [
    "pd_lista_listas_analizar_0.describe()"
   ]
  },
  {
   "cell_type": "markdown",
   "id": "b76b5fae",
   "metadata": {},
   "source": [
    "The mean count of answers for each question is 1.5  and the value of the STD its almost the same value that the mean.\n",
    "We can suggest that every question could have between no answers and 3 answers \n"
   ]
  },
  {
   "cell_type": "code",
   "execution_count": 61,
   "id": "c4ebe577",
   "metadata": {},
   "outputs": [
    {
     "data": {
      "text/plain": [
       "0    0.096793\n",
       "dtype: float64"
      ]
     },
     "execution_count": 61,
     "metadata": {},
     "output_type": "execute_result"
    }
   ],
   "source": [
    "pd_lista_listas_analizar_0.corrwith(pd_lista_listas_analizar_1,axis=0)"
   ]
  },
  {
   "cell_type": "markdown",
   "id": "05177e04",
   "metadata": {},
   "source": [
    "The correlation between the two dataframes is really low"
   ]
  },
  {
   "cell_type": "code",
   "execution_count": 67,
   "id": "b875e501",
   "metadata": {},
   "outputs": [
    {
     "data": {
      "text/plain": [
       "<matplotlib.collections.PathCollection at 0x7fa58d33c9a0>"
      ]
     },
     "execution_count": 67,
     "metadata": {},
     "output_type": "execute_result"
    },
    {
     "data": {
      "image/png": "[encoded data removed]",
      "text/plain": [
       "<Figure size 432x288 with 1 Axes>"
      ]
     },
     "metadata": {
      "needs_background": "light"
     },
     "output_type": "display_data"
    }
   ],
   "source": [
    "plt.scatter(pd_lista_listas_analizar_0,pd_lista_listas_analizar_1)"
   ]
  },
  {
   "cell_type": "code",
   "execution_count": null,
   "id": "eb688b46",
   "metadata": {},
   "outputs": [],
   "source": [
    "The last graph shows that we have some outliers that can be removed to get a better analysis"
   ]
  },
  {
   "cell_type": "code",
   "execution_count": 88,
   "id": "dfb5026d",
   "metadata": {},
   "outputs": [
    {
     "data": {
      "text/html": [
       "<div>\n",
       "<style scoped>\n",
       "    .dataframe tbody tr th:only-of-type {\n",
       "        vertical-align: middle;\n",
       "    }\n",
       "\n",
       "    .dataframe tbody tr th {\n",
       "        vertical-align: top;\n",
       "    }\n",
       "\n",
       "    .dataframe thead th {\n",
       "        text-align: right;\n",
       "    }\n",
       "</style>\n",
       "<table border=\"1\" class=\"dataframe\">\n",
       "  <thead>\n",
       "    <tr style=\"text-align: right;\">\n",
       "      <th></th>\n",
       "      <th>Answers</th>\n",
       "      <th>Words_count</th>\n",
       "    </tr>\n",
       "  </thead>\n",
       "  <tbody>\n",
       "    <tr>\n",
       "      <th>count</th>\n",
       "      <td>13805.000000</td>\n",
       "      <td>13805.000000</td>\n",
       "    </tr>\n",
       "    <tr>\n",
       "      <th>mean</th>\n",
       "      <td>1.565809</td>\n",
       "      <td>78.478667</td>\n",
       "    </tr>\n",
       "    <tr>\n",
       "      <th>std</th>\n",
       "      <td>1.624203</td>\n",
       "      <td>78.919490</td>\n",
       "    </tr>\n",
       "    <tr>\n",
       "      <th>min</th>\n",
       "      <td>1.000000</td>\n",
       "      <td>0.000000</td>\n",
       "    </tr>\n",
       "    <tr>\n",
       "      <th>25%</th>\n",
       "      <td>1.000000</td>\n",
       "      <td>32.000000</td>\n",
       "    </tr>\n",
       "    <tr>\n",
       "      <th>50%</th>\n",
       "      <td>1.000000</td>\n",
       "      <td>56.000000</td>\n",
       "    </tr>\n",
       "    <tr>\n",
       "      <th>75%</th>\n",
       "      <td>2.000000</td>\n",
       "      <td>97.000000</td>\n",
       "    </tr>\n",
       "    <tr>\n",
       "      <th>max</th>\n",
       "      <td>75.000000</td>\n",
       "      <td>1436.000000</td>\n",
       "    </tr>\n",
       "  </tbody>\n",
       "</table>\n",
       "</div>"
      ],
      "text/plain": [
       "            Answers   Words_count\n",
       "count  13805.000000  13805.000000\n",
       "mean       1.565809     78.478667\n",
       "std        1.624203     78.919490\n",
       "min        1.000000      0.000000\n",
       "25%        1.000000     32.000000\n",
       "50%        1.000000     56.000000\n",
       "75%        2.000000     97.000000\n",
       "max       75.000000   1436.000000"
      ]
     },
     "execution_count": 88,
     "metadata": {},
     "output_type": "execute_result"
    }
   ],
   "source": [
    "pd_ans_word=pd.DataFrame()\n",
    "pd_ans_word['Answers']=pd_lista_listas_analizar_0\n",
    "pd_ans_word['Words_count']=pd_lista_listas_analizar_1\n",
    "\n",
    "\n",
    "pd_ans_word.describe()"
   ]
  },
  {
   "cell_type": "code",
   "execution_count": 99,
   "id": "1407b311",
   "metadata": {},
   "outputs": [],
   "source": [
    "# This code its to remove outliers, usually the value that we take its zscore < 3 \n",
    "\n",
    "import numpy as np\n",
    "from scipy import stats\n",
    "z_scores = stats.zscore(pd_ans_word)\n",
    "abs_z_scores= np.abs(z_scores)\n",
    "filtered_entries= (abs_z_scores < 3).all(axis=1)\n",
    "pd_ans_word_n_o = pd_ans_word[filtered_entries]\n"
   ]
  },
  {
   "cell_type": "code",
   "execution_count": 100,
   "id": "c22a390c",
   "metadata": {},
   "outputs": [
    {
     "data": {
      "text/html": [
       "<div>\n",
       "<style scoped>\n",
       "    .dataframe tbody tr th:only-of-type {\n",
       "        vertical-align: middle;\n",
       "    }\n",
       "\n",
       "    .dataframe tbody tr th {\n",
       "        vertical-align: top;\n",
       "    }\n",
       "\n",
       "    .dataframe thead th {\n",
       "        text-align: right;\n",
       "    }\n",
       "</style>\n",
       "<table border=\"1\" class=\"dataframe\">\n",
       "  <thead>\n",
       "    <tr style=\"text-align: right;\">\n",
       "      <th></th>\n",
       "      <th>Answers</th>\n",
       "      <th>Words_count</th>\n",
       "    </tr>\n",
       "  </thead>\n",
       "  <tbody>\n",
       "    <tr>\n",
       "      <th>count</th>\n",
       "      <td>13422.000000</td>\n",
       "      <td>13422.000000</td>\n",
       "    </tr>\n",
       "    <tr>\n",
       "      <th>mean</th>\n",
       "      <td>1.457458</td>\n",
       "      <td>71.185367</td>\n",
       "    </tr>\n",
       "    <tr>\n",
       "      <th>std</th>\n",
       "      <td>0.834275</td>\n",
       "      <td>55.883733</td>\n",
       "    </tr>\n",
       "    <tr>\n",
       "      <th>min</th>\n",
       "      <td>1.000000</td>\n",
       "      <td>0.000000</td>\n",
       "    </tr>\n",
       "    <tr>\n",
       "      <th>25%</th>\n",
       "      <td>1.000000</td>\n",
       "      <td>31.000000</td>\n",
       "    </tr>\n",
       "    <tr>\n",
       "      <th>50%</th>\n",
       "      <td>1.000000</td>\n",
       "      <td>55.000000</td>\n",
       "    </tr>\n",
       "    <tr>\n",
       "      <th>75%</th>\n",
       "      <td>2.000000</td>\n",
       "      <td>94.000000</td>\n",
       "    </tr>\n",
       "    <tr>\n",
       "      <th>max</th>\n",
       "      <td>6.000000</td>\n",
       "      <td>315.000000</td>\n",
       "    </tr>\n",
       "  </tbody>\n",
       "</table>\n",
       "</div>"
      ],
      "text/plain": [
       "            Answers   Words_count\n",
       "count  13422.000000  13422.000000\n",
       "mean       1.457458     71.185367\n",
       "std        0.834275     55.883733\n",
       "min        1.000000      0.000000\n",
       "25%        1.000000     31.000000\n",
       "50%        1.000000     55.000000\n",
       "75%        2.000000     94.000000\n",
       "max        6.000000    315.000000"
      ]
     },
     "execution_count": 100,
     "metadata": {},
     "output_type": "execute_result"
    }
   ],
   "source": [
    "pd_ans_word_n_o.describe()"
   ]
  },
  {
   "cell_type": "code",
   "execution_count": 101,
   "id": "ad96ea3f",
   "metadata": {},
   "outputs": [
    {
     "data": {
      "image/png": "[encoded data removed]",
      "text/plain": [
       "<Figure size 432x288 with 1 Axes>"
      ]
     },
     "metadata": {
      "needs_background": "light"
     },
     "output_type": "display_data"
    }
   ],
   "source": [
    "pd_ans_word_n_o.plot(x='Answers',y='Words_count',kind='scatter')\n",
    "plt.show()"
   ]
  },
  {
   "cell_type": "markdown",
   "id": "04872224",
   "metadata": {},
   "source": [
    "In this graph we can see that if we remove the outliers (383 registries - 2.77% of the total values) the 97.23% of the questions that has at least 1 answer recive between 1 and 6 answers\n",
    "\n",
    "\n",
    "\n",
    "\n"
   ]
  },
  {
   "cell_type": "code",
   "execution_count": null,
   "id": "3db1aec8",
   "metadata": {},
   "outputs": [],
   "source": []
  },
  {
   "cell_type": "code",
   "execution_count": null,
   "id": "28bf95d6",
   "metadata": {},
   "outputs": [],
   "source": []
  },
  {
   "cell_type": "code",
   "execution_count": 118,
   "id": "5092b952",
   "metadata": {},
   "outputs": [],
   "source": [
    "\n"
   ]
  },
  {
   "cell_type": "code",
   "execution_count": 107,
   "id": "2ad18c5c",
   "metadata": {},
   "outputs": [],
   "source": []
  },
  {
   "cell_type": "code",
   "execution_count": null,
   "id": "5ff3a632",
   "metadata": {},
   "outputs": [],
   "source": []
  },
  {
   "cell_type": "code",
   "execution_count": null,
   "id": "36cedcfe",
   "metadata": {},
   "outputs": [],
   "source": []
  },
  {
   "cell_type": "code",
   "execution_count": null,
   "id": "9590af54",
   "metadata": {},
   "outputs": [],
   "source": []
  },
  {
   "cell_type": "code",
   "execution_count": null,
   "id": "b475fd38",
   "metadata": {},
   "outputs": [],
   "source": []
  },
  {
   "cell_type": "code",
   "execution_count": null,
   "id": "7f61c38e",
   "metadata": {},
   "outputs": [],
   "source": []
  }
 ],
 "metadata": {
  "kernelspec": {
   "display_name": "Python 3 (ipykernel)",
   "language": "python",
   "name": "python3"
  },
  "language_info": {
   "codemirror_mode": {
    "name": "ipython",
    "version": 3
   },
   "file_extension": ".py",
   "mimetype": "text/x-python",
   "name": "python",
   "nbconvert_exporter": "python",
   "pygments_lexer": "ipython3",
   "version": "3.9.12"
  }
 },
 "nbformat": 4,
 "nbformat_minor": 5
}
